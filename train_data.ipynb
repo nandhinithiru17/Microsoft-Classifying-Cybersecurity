{
 "cells": [
  {
   "cell_type": "markdown",
   "metadata": {},
   "source": [
    "Data Exploration and Understanding for Train Dataset"
   ]
  },
  {
   "cell_type": "code",
   "execution_count": 1,
   "metadata": {},
   "outputs": [
    {
     "data": {
      "text/html": [
       "<div>\n",
       "<style scoped>\n",
       "    .dataframe tbody tr th:only-of-type {\n",
       "        vertical-align: middle;\n",
       "    }\n",
       "\n",
       "    .dataframe tbody tr th {\n",
       "        vertical-align: top;\n",
       "    }\n",
       "\n",
       "    .dataframe thead th {\n",
       "        text-align: right;\n",
       "    }\n",
       "</style>\n",
       "<table border=\"1\" class=\"dataframe\">\n",
       "  <thead>\n",
       "    <tr style=\"text-align: right;\">\n",
       "      <th></th>\n",
       "      <th>Id</th>\n",
       "      <th>OrgId</th>\n",
       "      <th>IncidentId</th>\n",
       "      <th>AlertId</th>\n",
       "      <th>Timestamp</th>\n",
       "      <th>DetectorId</th>\n",
       "      <th>AlertTitle</th>\n",
       "      <th>Category</th>\n",
       "      <th>MitreTechniques</th>\n",
       "      <th>IncidentGrade</th>\n",
       "      <th>...</th>\n",
       "      <th>ResourceType</th>\n",
       "      <th>Roles</th>\n",
       "      <th>OSFamily</th>\n",
       "      <th>OSVersion</th>\n",
       "      <th>AntispamDirection</th>\n",
       "      <th>SuspicionLevel</th>\n",
       "      <th>LastVerdict</th>\n",
       "      <th>CountryCode</th>\n",
       "      <th>State</th>\n",
       "      <th>City</th>\n",
       "    </tr>\n",
       "  </thead>\n",
       "  <tbody>\n",
       "    <tr>\n",
       "      <th>0</th>\n",
       "      <td>1786</td>\n",
       "      <td>0</td>\n",
       "      <td>612</td>\n",
       "      <td>123247</td>\n",
       "      <td>2024-06-04T06:05:15.000Z</td>\n",
       "      <td>7</td>\n",
       "      <td>6</td>\n",
       "      <td>InitialAccess</td>\n",
       "      <td>NaN</td>\n",
       "      <td>TruePositive</td>\n",
       "      <td>...</td>\n",
       "      <td>NaN</td>\n",
       "      <td>NaN</td>\n",
       "      <td>5.0</td>\n",
       "      <td>66.0</td>\n",
       "      <td>NaN</td>\n",
       "      <td>NaN</td>\n",
       "      <td>NaN</td>\n",
       "      <td>31.0</td>\n",
       "      <td>6.0</td>\n",
       "      <td>3.0</td>\n",
       "    </tr>\n",
       "    <tr>\n",
       "      <th>1</th>\n",
       "      <td>1492</td>\n",
       "      <td>88</td>\n",
       "      <td>326</td>\n",
       "      <td>210035</td>\n",
       "      <td>2024-06-14T03:01:25.000Z</td>\n",
       "      <td>58</td>\n",
       "      <td>43</td>\n",
       "      <td>Exfiltration</td>\n",
       "      <td>NaN</td>\n",
       "      <td>FalsePositive</td>\n",
       "      <td>...</td>\n",
       "      <td>NaN</td>\n",
       "      <td>NaN</td>\n",
       "      <td>5.0</td>\n",
       "      <td>66.0</td>\n",
       "      <td>NaN</td>\n",
       "      <td>NaN</td>\n",
       "      <td>NaN</td>\n",
       "      <td>242.0</td>\n",
       "      <td>1445.0</td>\n",
       "      <td>10630.0</td>\n",
       "    </tr>\n",
       "    <tr>\n",
       "      <th>2</th>\n",
       "      <td>2573</td>\n",
       "      <td>809</td>\n",
       "      <td>58352</td>\n",
       "      <td>712507</td>\n",
       "      <td>2024-06-13T04:52:55.000Z</td>\n",
       "      <td>423</td>\n",
       "      <td>298</td>\n",
       "      <td>InitialAccess</td>\n",
       "      <td>T1189</td>\n",
       "      <td>FalsePositive</td>\n",
       "      <td>...</td>\n",
       "      <td>NaN</td>\n",
       "      <td>NaN</td>\n",
       "      <td>5.0</td>\n",
       "      <td>66.0</td>\n",
       "      <td>NaN</td>\n",
       "      <td>Suspicious</td>\n",
       "      <td>Suspicious</td>\n",
       "      <td>242.0</td>\n",
       "      <td>1445.0</td>\n",
       "      <td>10630.0</td>\n",
       "    </tr>\n",
       "    <tr>\n",
       "      <th>3</th>\n",
       "      <td>4528</td>\n",
       "      <td>92</td>\n",
       "      <td>32992</td>\n",
       "      <td>774301</td>\n",
       "      <td>2024-06-10T16:39:36.000Z</td>\n",
       "      <td>2</td>\n",
       "      <td>2</td>\n",
       "      <td>CommandAndControl</td>\n",
       "      <td>NaN</td>\n",
       "      <td>BenignPositive</td>\n",
       "      <td>...</td>\n",
       "      <td>NaN</td>\n",
       "      <td>NaN</td>\n",
       "      <td>5.0</td>\n",
       "      <td>66.0</td>\n",
       "      <td>NaN</td>\n",
       "      <td>Suspicious</td>\n",
       "      <td>Suspicious</td>\n",
       "      <td>242.0</td>\n",
       "      <td>1445.0</td>\n",
       "      <td>10630.0</td>\n",
       "    </tr>\n",
       "    <tr>\n",
       "      <th>4</th>\n",
       "      <td>3722</td>\n",
       "      <td>148</td>\n",
       "      <td>4359</td>\n",
       "      <td>188041</td>\n",
       "      <td>2024-06-15T01:08:07.000Z</td>\n",
       "      <td>9</td>\n",
       "      <td>74</td>\n",
       "      <td>Execution</td>\n",
       "      <td>NaN</td>\n",
       "      <td>TruePositive</td>\n",
       "      <td>...</td>\n",
       "      <td>NaN</td>\n",
       "      <td>NaN</td>\n",
       "      <td>5.0</td>\n",
       "      <td>66.0</td>\n",
       "      <td>NaN</td>\n",
       "      <td>NaN</td>\n",
       "      <td>NaN</td>\n",
       "      <td>242.0</td>\n",
       "      <td>1445.0</td>\n",
       "      <td>10630.0</td>\n",
       "    </tr>\n",
       "  </tbody>\n",
       "</table>\n",
       "<p>5 rows × 45 columns</p>\n",
       "</div>"
      ],
      "text/plain": [
       "     Id  OrgId  IncidentId  AlertId                 Timestamp  DetectorId  \\\n",
       "0  1786      0         612   123247  2024-06-04T06:05:15.000Z           7   \n",
       "1  1492     88         326   210035  2024-06-14T03:01:25.000Z          58   \n",
       "2  2573    809       58352   712507  2024-06-13T04:52:55.000Z         423   \n",
       "3  4528     92       32992   774301  2024-06-10T16:39:36.000Z           2   \n",
       "4  3722    148        4359   188041  2024-06-15T01:08:07.000Z           9   \n",
       "\n",
       "   AlertTitle           Category MitreTechniques   IncidentGrade  ...  \\\n",
       "0           6      InitialAccess             NaN    TruePositive  ...   \n",
       "1          43       Exfiltration             NaN   FalsePositive  ...   \n",
       "2         298      InitialAccess           T1189   FalsePositive  ...   \n",
       "3           2  CommandAndControl             NaN  BenignPositive  ...   \n",
       "4          74          Execution             NaN    TruePositive  ...   \n",
       "\n",
       "  ResourceType Roles OSFamily OSVersion  AntispamDirection  SuspicionLevel  \\\n",
       "0          NaN   NaN      5.0      66.0                NaN             NaN   \n",
       "1          NaN   NaN      5.0      66.0                NaN             NaN   \n",
       "2          NaN   NaN      5.0      66.0                NaN      Suspicious   \n",
       "3          NaN   NaN      5.0      66.0                NaN      Suspicious   \n",
       "4          NaN   NaN      5.0      66.0                NaN             NaN   \n",
       "\n",
       "   LastVerdict  CountryCode   State     City  \n",
       "0          NaN         31.0     6.0      3.0  \n",
       "1          NaN        242.0  1445.0  10630.0  \n",
       "2   Suspicious        242.0  1445.0  10630.0  \n",
       "3   Suspicious        242.0  1445.0  10630.0  \n",
       "4          NaN        242.0  1445.0  10630.0  \n",
       "\n",
       "[5 rows x 45 columns]"
      ]
     },
     "execution_count": 1,
     "metadata": {},
     "output_type": "execute_result"
    }
   ],
   "source": [
    "import pandas as pd\n",
    "import matplotlib.pyplot as plt\n",
    "import seaborn as sns\n",
    "\n",
    "def optimize_memory(df):\n",
    "    for col in df.columns:\n",
    "        col_type = df[col].dtypes\n",
    "        if col_type == 'int64':\n",
    "            df[col] = df[col].astype('int32')\n",
    "        elif col_type == 'float64':\n",
    "            df[col] = df[col].astype('float32')\n",
    "        elif col_type == 'object':  # For string-based data\n",
    "            df[col] = df[col].astype('category')\n",
    "    return df\n",
    "\n",
    "chunks = []\n",
    "train_dataset = r\"C:\\Users\\THIRU\\OneDrive\\Desktop\\project_4\\GUIDE_Train.csv\"\n",
    "# Read the dataset in chunks and process each chunk\n",
    "for chunk in pd.read_csv(train_dataset, chunksize=500000,low_memory=False):\n",
    "    chunk = optimize_memory(chunk)\n",
    "    chunks.append(chunk)\n",
    "\n",
    "# Concatenate all chunks into a single DataFrame\n",
    "df = pd.concat(chunks, ignore_index=True)\n",
    "\n",
    "# Clean up memory\n",
    "del chunks\n",
    "df.head()"
   ]
  },
  {
   "cell_type": "code",
   "execution_count": 2,
   "metadata": {},
   "outputs": [
    {
     "data": {
      "text/plain": [
       "(5620872, 45)"
      ]
     },
     "execution_count": 2,
     "metadata": {},
     "output_type": "execute_result"
    }
   ],
   "source": [
    "# shape of the dataset\n",
    "df.shape"
   ]
  },
  {
   "cell_type": "code",
   "execution_count": 3,
   "metadata": {},
   "outputs": [
    {
     "name": "stdout",
     "output_type": "stream",
     "text": [
      "<class 'pandas.core.frame.DataFrame'>\n",
      "RangeIndex: 5620872 entries, 0 to 5620871\n",
      "Data columns (total 45 columns):\n",
      " #   Column              Dtype   \n",
      "---  ------              -----   \n",
      " 0   Id                  int32   \n",
      " 1   OrgId               int32   \n",
      " 2   IncidentId          int32   \n",
      " 3   AlertId             int32   \n",
      " 4   Timestamp           object  \n",
      " 5   DetectorId          int32   \n",
      " 6   AlertTitle          int32   \n",
      " 7   Category            object  \n",
      " 8   MitreTechniques     object  \n",
      " 9   IncidentGrade       category\n",
      " 10  ActionGrouped       category\n",
      " 11  ActionGranular      object  \n",
      " 12  EntityType          object  \n",
      " 13  EvidenceRole        category\n",
      " 14  DeviceId            int32   \n",
      " 15  Sha256              int32   \n",
      " 16  IpAddress           int32   \n",
      " 17  Url                 int32   \n",
      " 18  AccountSid          int32   \n",
      " 19  AccountUpn          int32   \n",
      " 20  AccountObjectId     int32   \n",
      " 21  AccountName         float64 \n",
      " 22  DeviceName          float64 \n",
      " 23  NetworkMessageId    float64 \n",
      " 24  EmailClusterId      float32 \n",
      " 25  RegistryKey         float64 \n",
      " 26  RegistryValueName   float64 \n",
      " 27  RegistryValueData   float64 \n",
      " 28  ApplicationId       float64 \n",
      " 29  ApplicationName     float64 \n",
      " 30  OAuthApplicationId  float64 \n",
      " 31  ThreatFamily        object  \n",
      " 32  FileName            float64 \n",
      " 33  FolderPath          float64 \n",
      " 34  ResourceIdName      float64 \n",
      " 35  ResourceType        object  \n",
      " 36  Roles               object  \n",
      " 37  OSFamily            float64 \n",
      " 38  OSVersion           float64 \n",
      " 39  AntispamDirection   object  \n",
      " 40  SuspicionLevel      category\n",
      " 41  LastVerdict         category\n",
      " 42  CountryCode         float64 \n",
      " 43  State               float64 \n",
      " 44  City                float64 \n",
      "dtypes: category(5), float32(1), float64(17), int32(13), object(9)\n",
      "memory usage: 1.4+ GB\n"
     ]
    }
   ],
   "source": [
    "df.info()"
   ]
  },
  {
   "cell_type": "code",
   "execution_count": 4,
   "metadata": {},
   "outputs": [
    {
     "data": {
      "text/plain": [
       "Id                          0\n",
       "OrgId                       0\n",
       "IncidentId                  0\n",
       "AlertId                     0\n",
       "Timestamp                   0\n",
       "DetectorId                  0\n",
       "AlertTitle                  0\n",
       "Category                    0\n",
       "MitreTechniques       3229436\n",
       "IncidentGrade           30239\n",
       "ActionGrouped         5587907\n",
       "ActionGranular        5587907\n",
       "EntityType                  0\n",
       "EvidenceRole                0\n",
       "DeviceId                    0\n",
       "Sha256                      0\n",
       "IpAddress                   0\n",
       "Url                         0\n",
       "AccountSid                  0\n",
       "AccountUpn                  0\n",
       "AccountObjectId             0\n",
       "AccountName                 1\n",
       "DeviceName                  1\n",
       "NetworkMessageId            1\n",
       "EmailClusterId        5563642\n",
       "RegistryKey                 1\n",
       "RegistryValueName           1\n",
       "RegistryValueData           1\n",
       "ApplicationId               1\n",
       "ApplicationName             1\n",
       "OAuthApplicationId          1\n",
       "ThreatFamily          5576768\n",
       "FileName                    1\n",
       "FolderPath                  1\n",
       "ResourceIdName              1\n",
       "ResourceType          5616690\n",
       "Roles                 5492359\n",
       "OSFamily                    1\n",
       "OSVersion                   1\n",
       "AntispamDirection     5516392\n",
       "SuspicionLevel        4768589\n",
       "LastVerdict           4301942\n",
       "CountryCode                 1\n",
       "State                       1\n",
       "City                        1\n",
       "dtype: int64"
      ]
     },
     "execution_count": 4,
     "metadata": {},
     "output_type": "execute_result"
    }
   ],
   "source": [
    "# Check for missing values\n",
    "df.isnull().sum()"
   ]
  },
  {
   "cell_type": "code",
   "execution_count": 5,
   "metadata": {},
   "outputs": [
    {
     "data": {
      "text/plain": [
       "np.int64(9337)"
      ]
     },
     "execution_count": 5,
     "metadata": {},
     "output_type": "execute_result"
    }
   ],
   "source": [
    "# Check for duplicate rows\n",
    "duplicate_count = df.duplicated().sum()\n",
    "duplicate_count "
   ]
  },
  {
   "cell_type": "code",
   "execution_count": 6,
   "metadata": {},
   "outputs": [
    {
     "data": {
      "text/plain": [
       "IncidentGrade\n",
       "BenignPositive    2427523\n",
       "TruePositive      1963560\n",
       "FalsePositive     1199550\n",
       "Name: count, dtype: int64"
      ]
     },
     "execution_count": 6,
     "metadata": {},
     "output_type": "execute_result"
    }
   ],
   "source": [
    "# Target variable distribution\n",
    "df['IncidentGrade'].value_counts()"
   ]
  },
  {
   "cell_type": "markdown",
   "metadata": {},
   "source": [
    "Data Cleaning and Preprocessing for Train Dataset"
   ]
  },
  {
   "cell_type": "code",
   "execution_count": 7,
   "metadata": {},
   "outputs": [
    {
     "data": {
      "image/png": "[encoded data removed]",
      "text/plain": [
       "<Figure size 800x600 with 1 Axes>"
      ]
     },
     "metadata": {},
     "output_type": "display_data"
    }
   ],
   "source": [
    "# plot Distribution of Target Variable\n",
    "plt.figure(figsize=(8, 6))\n",
    "sns.countplot(x=df['IncidentGrade'])\n",
    "plt.title('Distribution of Target Variable')\n",
    "plt.show()"
   ]
  },
  {
   "cell_type": "code",
   "execution_count": 8,
   "metadata": {},
   "outputs": [
    {
     "name": "stdout",
     "output_type": "stream",
     "text": [
      "Columns with more than 50% missing values are dropped\n"
     ]
    }
   ],
   "source": [
    "import pandas as pd\n",
    "import numpy as np\n",
    "from sklearn.preprocessing import LabelEncoder, MinMaxScaler\n",
    "\n",
    "# Calculate the percentage of missing values for each column\n",
    "missing_percentage = df.isnull().sum() / len(df) * 100\n",
    "\n",
    "# List columns with more than 50% missing values\n",
    "columns_to_drop = missing_percentage[missing_percentage > 50].index\n",
    "print(\"Columns with more than 50% missing values are dropped\")\n",
    "\n",
    "# Drop these columns\n",
    "df.drop(columns=columns_to_drop, axis=1, inplace=True)"
   ]
  },
  {
   "cell_type": "code",
   "execution_count": 9,
   "metadata": {},
   "outputs": [
    {
     "name": "stdout",
     "output_type": "stream",
     "text": [
      "Imputed categorical column 'IncidentGrade' with mode value: BenignPositive\n"
     ]
    }
   ],
   "source": [
    "# Impute missing values for categorical columns\n",
    "categorical_columns = df.select_dtypes(include=['object','category']).columns\n",
    "for col in categorical_columns:\n",
    "    if df[col].isnull().any():\n",
    "        mode_val = df[col].mode()[0]\n",
    "        df[col] = df[col].fillna(mode_val)\n",
    "        print(f\"Imputed categorical column '{col}' with mode value: {mode_val}\")"
   ]
  },
  {
   "cell_type": "code",
   "execution_count": 10,
   "metadata": {},
   "outputs": [],
   "source": [
    "# Impute missing values for numeric columns\n",
    "numeric_columns = df.select_dtypes(include=['int32','float32']).columns\n",
    "for col in numeric_columns:\n",
    "    if df[col].isnull().any():\n",
    "        median_val = df[col].median()\n",
    "        df[col] = df[col].fillna(median_val)\n",
    "        print(f\"Imputed numeric column '{col}' with median value: {median_val}\")"
   ]
  },
  {
   "cell_type": "code",
   "execution_count": 11,
   "metadata": {},
   "outputs": [],
   "source": [
    "def outliers(df, iqr_multiplier=1.5):\n",
    "    numeric_features = df.select_dtypes(include=['int32', 'int16', 'float32', 'int64', 'float64'])\n",
    "    for col in numeric_features.columns:\n",
    "        if df[col].nunique() > 10:\n",
    "            Q1 = numeric_features[col].quantile(0.25)\n",
    "            Q3 = numeric_features[col].quantile(0.75)\n",
    "            IQR = Q3 - Q1\n",
    "            lower_bound = Q1 - iqr_multiplier * IQR\n",
    "            upper_bound = Q3 + iqr_multiplier * IQR   \n",
    "            df = df[(df[col] >= lower_bound) & (df[col] <= upper_bound)]\n",
    "    return df\n",
    "\n",
    "# Usage\n",
    "df = outliers(df, iqr_multiplier=1.5) "
   ]
  },
  {
   "cell_type": "code",
   "execution_count": 12,
   "metadata": {},
   "outputs": [],
   "source": [
    "id_columns = ['Id', 'OrgId', 'IncidentId', 'AlertId', 'DetectorId', 'DeviceId', 'Sha256', \n",
    "              'IpAddress', 'Url', 'AccountSid', 'AccountUpn', 'AccountObjectId', 'AccountName', \n",
    "              'DeviceName', 'NetworkMessageId',  'RegistryKey', 'RegistryValueName', \n",
    "              'RegistryValueData', 'ApplicationId', 'ApplicationName', 'OAuthApplicationId', \n",
    "              'FileName', 'FolderPath', 'ResourceIdName','OSFamily', 'OSVersion', 'City','CountryCode', 'State']\n",
    "\n",
    "# Exclude ID columns from scaling\n",
    "numeric_features = df.select_dtypes(include=['int32', 'int16', 'float32', 'int64']).drop(columns=id_columns, errors='ignore')\n",
    "\n",
    "# Scaling numerical features \n",
    "scaler = MinMaxScaler()\n",
    "df[numeric_features.columns] = scaler.fit_transform(numeric_features)"
   ]
  },
  {
   "cell_type": "code",
   "execution_count": 13,
   "metadata": {},
   "outputs": [],
   "source": [
    "# categorical columns\n",
    "label_encoder = LabelEncoder()\n",
    "categorical_columns = ['Category', 'IncidentGrade', 'EntityType', 'EvidenceRole']\n",
    "\n",
    "for col in categorical_columns:\n",
    "    if col in df.columns:\n",
    "        df[col] = label_encoder.fit_transform(df[col].astype(str))  # Convert to string if necessary"
   ]
  },
  {
   "cell_type": "code",
   "execution_count": 14,
   "metadata": {},
   "outputs": [],
   "source": [
    "# Remove duplicate rows\n",
    "df.drop_duplicates(inplace=True)"
   ]
  },
  {
   "cell_type": "code",
   "execution_count": null,
   "metadata": {},
   "outputs": [],
   "source": [
    "# Save\n",
    "path = r\"C:\\Users\\THIRU\\OneDrive\\Desktop\\project_4\\train_cleaned_dataset.csv\"\n",
    "df.to_csv(path, index=False)\n",
    "print(\"Data preprocessing complete and saved.\")"
   ]
  }
 ],
 "metadata": {
  "kernelspec": {
   "display_name": "Python 3",
   "language": "python",
   "name": "python3"
  },
  "language_info": {
   "codemirror_mode": {
    "name": "ipython",
    "version": 3
   },
   "file_extension": ".py",
   "mimetype": "text/x-python",
   "name": "python",
   "nbconvert_exporter": "python",
   "pygments_lexer": "ipython3",
   "version": "3.11.9"
  }
 },
 "nbformat": 4,
 "nbformat_minor": 2
}
